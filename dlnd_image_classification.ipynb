{
 "cells": [
  {
   "cell_type": "markdown",
   "metadata": {
    "collapsed": true
   },
   "source": [
    "# Image Classification\n",
    "In this project, you'll classify images from the [CIFAR-10 dataset](https://www.cs.toronto.edu/~kriz/cifar.html).  The dataset consists of airplanes, dogs, cats, and other objects. You'll preprocess the images, then train a convolutional neural network on all the samples. The images need to be normalized and the labels need to be one-hot encoded.  You'll get to apply what you learned and build a convolutional, max pooling, dropout, and fully connected layers.  At the end, you'll get to see your neural network's predictions on the sample images.\n",
    "## Get the Data\n",
    "Run the following cell to download the [CIFAR-10 dataset for python](https://www.cs.toronto.edu/~kriz/cifar-10-python.tar.gz)."
   ]
  },
  {
   "cell_type": "code",
   "execution_count": 37,
   "metadata": {},
   "outputs": [
    {
     "name": "stdout",
     "output_type": "stream",
     "text": [
      "All files found!\n"
     ]
    }
   ],
   "source": [
    "\"\"\"\n",
    "DON'T MODIFY ANYTHING IN THIS CELL THAT IS BELOW THIS LINE\n",
    "\"\"\"\n",
    "from urllib.request import urlretrieve\n",
    "from os.path import isfile, isdir\n",
    "from tqdm import tqdm\n",
    "import problem_unittests as tests\n",
    "import tarfile\n",
    "\n",
    "cifar10_dataset_folder_path = 'cifar-10-batches-py'\n",
    "\n",
    "# Use Floyd's cifar-10 dataset if present\n",
    "floyd_cifar10_location = '/input/cifar-10/python.tar.gz'\n",
    "if isfile(floyd_cifar10_location):\n",
    "    tar_gz_path = floyd_cifar10_location\n",
    "else:\n",
    "    tar_gz_path = 'cifar-10-python.tar.gz'\n",
    "\n",
    "class DLProgress(tqdm):\n",
    "    last_block = 0\n",
    "\n",
    "    def hook(self, block_num=1, block_size=1, total_size=None):\n",
    "        self.total = total_size\n",
    "        self.update((block_num - self.last_block) * block_size)\n",
    "        self.last_block = block_num\n",
    "\n",
    "if not isfile(tar_gz_path):\n",
    "    with DLProgress(unit='B', unit_scale=True, miniters=1, desc='CIFAR-10 Dataset') as pbar:\n",
    "        urlretrieve(\n",
    "            'https://www.cs.toronto.edu/~kriz/cifar-10-python.tar.gz',\n",
    "            tar_gz_path,\n",
    "            pbar.hook)\n",
    "\n",
    "if not isdir(cifar10_dataset_folder_path):\n",
    "    with tarfile.open(tar_gz_path) as tar:\n",
    "        tar.extractall()\n",
    "        tar.close()\n",
    "\n",
    "\n",
    "tests.test_folder_path(cifar10_dataset_folder_path)"
   ]
  },
  {
   "cell_type": "markdown",
   "metadata": {},
   "source": [
    "## Explore the Data\n",
    "The dataset is broken into batches to prevent your machine from running out of memory.  The CIFAR-10 dataset consists of 5 batches, named `data_batch_1`, `data_batch_2`, etc.. Each batch contains the labels and images that are one of the following:\n",
    "* airplane\n",
    "* automobile\n",
    "* bird\n",
    "* cat\n",
    "* deer\n",
    "* dog\n",
    "* frog\n",
    "* horse\n",
    "* ship\n",
    "* truck\n",
    "\n",
    "Understanding a dataset is part of making predictions on the data.  Play around with the code cell below by changing the `batch_id` and `sample_id`. The `batch_id` is the id for a batch (1-5). The `sample_id` is the id for a image and label pair in the batch.\n",
    "\n",
    "Ask yourself \"What are all possible labels?\", \"What is the range of values for the image data?\", \"Are the labels in order or random?\".  Answers to questions like these will help you preprocess the data and end up with better predictions."
   ]
  },
  {
   "cell_type": "code",
   "execution_count": 38,
   "metadata": {},
   "outputs": [
    {
     "name": "stdout",
     "output_type": "stream",
     "text": [
      "\n",
      "Stats of batch 5:\n",
      "Samples: 10000\n",
      "Label Counts: {0: 1014, 1: 1014, 2: 952, 3: 1016, 4: 997, 5: 1025, 6: 980, 7: 977, 8: 1003, 9: 1022}\n",
      "First 20 Labels: [1, 8, 5, 1, 5, 7, 4, 3, 8, 2, 7, 2, 0, 1, 5, 9, 6, 2, 0, 8]\n",
      "\n",
      "Example of Image 1000:\n",
      "Image - Min Value: 28 Max Value: 228\n",
      "Image - Shape: (32, 32, 3)\n",
      "Label - Label Id: 7 Name: horse\n"
     ]
    },
    {
     "data": {
      "image/png": "[encoded data removed]",
      "text/plain": [
       "<matplotlib.figure.Figure at 0x1243ffa20>"
      ]
     },
     "metadata": {
      "image/png": {
       "height": 250,
       "width": 253
      }
     },
     "output_type": "display_data"
    }
   ],
   "source": [
    "%matplotlib inline\n",
    "%config InlineBackend.figure_format = 'retina'\n",
    "\n",
    "import helper\n",
    "import numpy as np\n",
    "\n",
    "# Explore the dataset\n",
    "batch_id = 5\n",
    "sample_id = 1000\n",
    "helper.display_stats(cifar10_dataset_folder_path, batch_id, sample_id)"
   ]
  },
  {
   "cell_type": "markdown",
   "metadata": {},
   "source": [
    "## Implement Preprocess Functions\n",
    "### Normalize\n",
    "In the cell below, implement the `normalize` function to take in image data, `x`, and return it as a normalized Numpy array. The values should be in the range of 0 to 1, inclusive.  The return object should be the same shape as `x`."
   ]
  },
  {
   "cell_type": "code",
   "execution_count": 39,
   "metadata": {},
   "outputs": [
    {
     "name": "stdout",
     "output_type": "stream",
     "text": [
      "Tests Passed\n"
     ]
    }
   ],
   "source": [
    "def normalize(x):\n",
    "    \"\"\"\n",
    "    Normalize a list of sample image data in the range of 0 to 1\n",
    "    : x: List of image data.  The image shape is (32, 32, 3)\n",
    "    : return: Numpy array of normalize data\n",
    "    \"\"\"\n",
    "    # TODO: Implement Function\n",
    "    \n",
    "    x=x/255\n",
    "    return x\n",
    "\n",
    "\n",
    "\"\"\"\n",
    "DON'T MODIFY ANYTHING IN THIS CELL THAT IS BELOW THIS LINE\n",
    "\"\"\"\n",
    "tests.test_normalize(normalize)"
   ]
  },
  {
   "cell_type": "markdown",
   "metadata": {},
   "source": [
    "### One-hot encode\n",
    "Just like the previous code cell, you'll be implementing a function for preprocessing.  This time, you'll implement the `one_hot_encode` function. The input, `x`, are a list of labels.  Implement the function to return the list of labels as One-Hot encoded Numpy array.  The possible values for labels are 0 to 9. The one-hot encoding function should return the same encoding for each value between each call to `one_hot_encode`.  Make sure to save the map of encodings outside the function.\n",
    "\n",
    "Hint: Don't reinvent the wheel."
   ]
  },
  {
   "cell_type": "code",
   "execution_count": 40,
   "metadata": {},
   "outputs": [
    {
     "name": "stdout",
     "output_type": "stream",
     "text": [
      "Tests Passed\n"
     ]
    }
   ],
   "source": [
    "\n",
    "def one_hot_encode(x):\n",
    "    \"\"\"\n",
    "    One hot encode a list of sample labels. Return a one-hot encoded vector for each label.\n",
    "    : x: List of sample Labels\n",
    "    : return: Numpy array of one-hot encoded labels\n",
    "    \"\"\"\n",
    "    # TODO: Implement Function\n",
    "\n",
    "    x=np.eye(10)[x] \n",
    "    return x \n",
    "\n",
    "\n",
    "\"\"\"\n",
    "DON'T MODIFY ANYTHING IN THIS CELL THAT IS BELOW THIS LINE\n",
    "\"\"\"\n",
    "tests.test_one_hot_encode(one_hot_encode)"
   ]
  },
  {
   "cell_type": "markdown",
   "metadata": {},
   "source": [
    "### Randomize Data\n",
    "As you saw from exploring the data above, the order of the samples are randomized.  It doesn't hurt to randomize it again, but you don't need to for this dataset."
   ]
  },
  {
   "cell_type": "markdown",
   "metadata": {},
   "source": [
    "## Preprocess all the data and save it\n",
    "Running the code cell below will preprocess all the CIFAR-10 data and save it to file. The code below also uses 10% of the training data for validation."
   ]
  },
  {
   "cell_type": "code",
   "execution_count": 41,
   "metadata": {
    "collapsed": true
   },
   "outputs": [],
   "source": [
    "\"\"\"\n",
    "DON'T MODIFY ANYTHING IN THIS CELL\n",
    "\"\"\"\n",
    "# Preprocess Training, Validation, and Testing Data\n",
    "helper.preprocess_and_save_data(cifar10_dataset_folder_path, normalize, one_hot_encode)"
   ]
  },
  {
   "cell_type": "markdown",
   "metadata": {},
   "source": [
    "# Check Point\n",
    "This is your first checkpoint.  If you ever decide to come back to this notebook or have to restart the notebook, you can start from here.  The preprocessed data has been saved to disk."
   ]
  },
  {
   "cell_type": "code",
   "execution_count": 42,
   "metadata": {
    "collapsed": true
   },
   "outputs": [],
   "source": [
    "\"\"\"\n",
    "DON'T MODIFY ANYTHING IN THIS CELL\n",
    "\"\"\"\n",
    "import pickle\n",
    "import problem_unittests as tests\n",
    "import helper\n",
    "\n",
    "# Load the Preprocessed Validation data\n",
    "valid_features, valid_labels = pickle.load(open('preprocess_validation.p', mode='rb'))"
   ]
  },
  {
   "cell_type": "markdown",
   "metadata": {},
   "source": [
    "## Build the network\n",
    "For the neural network, you'll build each layer into a function.  Most of the code you've seen has been outside of functions. To test your code more thoroughly, we require that you put each layer in a function.  This allows us to give you better feedback and test for simple mistakes using our unittests before you submit your project.\n",
    "\n",
    ">**Note:** If you're finding it hard to dedicate enough time for this course each week, we've provided a small shortcut to this part of the project. In the next couple of problems, you'll have the option to use classes from the [TensorFlow Layers](https://www.tensorflow.org/api_docs/python/tf/layers) or [TensorFlow Layers (contrib)](https://www.tensorflow.org/api_guides/python/contrib.layers) packages to build each layer, except the layers you build in the \"Convolutional and Max Pooling Layer\" section.  TF Layers is similar to Keras's and TFLearn's abstraction to layers, so it's easy to pickup.\n",
    "\n",
    ">However, if you would like to get the most out of this course, try to solve all the problems _without_ using anything from the TF Layers packages. You **can** still use classes from other packages that happen to have the same name as ones you find in TF Layers! For example, instead of using the TF Layers version of the `conv2d` class, [tf.layers.conv2d](https://www.tensorflow.org/api_docs/python/tf/layers/conv2d), you would want to use the TF Neural Network version of `conv2d`, [tf.nn.conv2d](https://www.tensorflow.org/api_docs/python/tf/nn/conv2d). \n",
    "\n",
    "Let's begin!\n",
    "\n",
    "### Input\n",
    "The neural network needs to read the image data, one-hot encoded labels, and dropout keep probability. Implement the following functions\n",
    "* Implement `neural_net_image_input`\n",
    " * Return a [TF Placeholder](https://www.tensorflow.org/api_docs/python/tf/placeholder)\n",
    " * Set the shape using `image_shape` with batch size set to `None`.\n",
    " * Name the TensorFlow placeholder \"x\" using the TensorFlow `name` parameter in the [TF Placeholder](https://www.tensorflow.org/api_docs/python/tf/placeholder).\n",
    "* Implement `neural_net_label_input`\n",
    " * Return a [TF Placeholder](https://www.tensorflow.org/api_docs/python/tf/placeholder)\n",
    " * Set the shape using `n_classes` with batch size set to `None`.\n",
    " * Name the TensorFlow placeholder \"y\" using the TensorFlow `name` parameter in the [TF Placeholder](https://www.tensorflow.org/api_docs/python/tf/placeholder).\n",
    "* Implement `neural_net_keep_prob_input`\n",
    " * Return a [TF Placeholder](https://www.tensorflow.org/api_docs/python/tf/placeholder) for dropout keep probability.\n",
    " * Name the TensorFlow placeholder \"keep_prob\" using the TensorFlow `name` parameter in the [TF Placeholder](https://www.tensorflow.org/api_docs/python/tf/placeholder).\n",
    "\n",
    "These names will be used at the end of the project to load your saved model.\n",
    "\n",
    "Note: `None` for shapes in TensorFlow allow for a dynamic size."
   ]
  },
  {
   "cell_type": "code",
   "execution_count": 43,
   "metadata": {},
   "outputs": [
    {
     "name": "stdout",
     "output_type": "stream",
     "text": [
      "Image Input Tests Passed.\n",
      "Label Input Tests Passed.\n",
      "Keep Prob Tests Passed.\n"
     ]
    }
   ],
   "source": [
    "import tensorflow as tf\n",
    "\n",
    "def neural_net_image_input(image_shape):\n",
    "    \"\"\"\n",
    "    Return a Tensor for a batch of image input\n",
    "    : image_shape: Shape of the images\n",
    "    : return: Tensor for image input.\n",
    "    \"\"\"\n",
    "    # TODO: Implement Function\n",
    "    return tf.placeholder(tf.float32,shape=(None,image_shape[0],image_shape[1],image_shape[2]),name='x')\n",
    "\n",
    "\n",
    "def neural_net_label_input(n_classes):\n",
    "    \"\"\"\n",
    "    Return a Tensor for a batch of label input\n",
    "    : n_classes: Number of classes\n",
    "    : return: Tensor for label input.\n",
    "    \"\"\"\n",
    "    # TODO: Implement Function\n",
    "    return tf.placeholder(tf.float32,shape=(None,n_classes),name='y')\n",
    "\n",
    "\n",
    "def neural_net_keep_prob_input():\n",
    "    \"\"\"\n",
    "    Return a Tensor for keep probability\n",
    "    : return: Tensor for keep probability.\n",
    "    \"\"\"\n",
    "    # TODO: Implement Function\n",
    "    return tf.placeholder(tf.float32,name=\"keep_prob\")\n",
    "\n",
    "\n",
    "\"\"\"\n",
    "DON'T MODIFY ANYTHING IN THIS CELL THAT IS BELOW THIS LINE\n",
    "\"\"\"\n",
    "tf.reset_default_graph()\n",
    "tests.test_nn_image_inputs(neural_net_image_input)\n",
    "tests.test_nn_label_inputs(neural_net_label_input)\n",
    "tests.test_nn_keep_prob_inputs(neural_net_keep_prob_input)"
   ]
  },
  {
   "cell_type": "markdown",
   "metadata": {},
   "source": [
    "### Convolution and Max Pooling Layer\n",
    "Convolution layers have a lot of success with images. For this code cell, you should implement the function `conv2d_maxpool` to apply convolution then max pooling:\n",
    "* Create the weight and bias using `conv_ksize`, `conv_num_outputs` and the shape of `x_tensor`.\n",
    "* Apply a convolution to `x_tensor` using weight and `conv_strides`.\n",
    " * We recommend you use same padding, but you're welcome to use any padding.\n",
    "* Add bias\n",
    "* Add a nonlinear activation to the convolution.\n",
    "* Apply Max Pooling using `pool_ksize` and `pool_strides`.\n",
    " * We recommend you use same padding, but you're welcome to use any padding.\n",
    "\n",
    "**Note:** You **can't** use [TensorFlow Layers](https://www.tensorflow.org/api_docs/python/tf/layers) or [TensorFlow Layers (contrib)](https://www.tensorflow.org/api_guides/python/contrib.layers) for **this** layer, but you can still use TensorFlow's [Neural Network](https://www.tensorflow.org/api_docs/python/tf/nn) package. You may still use the shortcut option for all the **other** layers."
   ]
  },
  {
   "cell_type": "code",
   "execution_count": 44,
   "metadata": {},
   "outputs": [
    {
     "name": "stdout",
     "output_type": "stream",
     "text": [
      "Tests Passed\n"
     ]
    }
   ],
   "source": [
    "def conv2d_maxpool(x_tensor, conv_num_outputs, conv_ksize, conv_strides, pool_ksize, pool_strides):\n",
    "    \"\"\"\n",
    "    Apply convolution then max pooling to x_tensor\n",
    "    :param x_tensor: TensorFlow Tensor\n",
    "    :param conv_num_outputs: Number of outputs for the convolutional layer\n",
    "    :param conv_ksize: kernal size 2-D Tuple for the convolutional layer\n",
    "    :param conv_strides: Stride 2-D Tuple for convolution\n",
    "    :param pool_ksize: kernal size 2-D Tuple for pool\n",
    "    :param pool_strides: Stride 2-D Tuple for pool\n",
    "    : return: A tensor that represents convolution and max pooling of x_tensor\n",
    "    \"\"\"\n",
    "    # TODO: Implement Function\n",
    "    \n",
    "    weight_conv=tf.Variable(tf.truncated_normal([conv_ksize[0],conv_ksize[1],int(x_tensor.shape[3]),conv_num_outputs],mean=0.0,stddev=1.0,dtype=tf.float32))\n",
    "    bias_conv=tf.Variable(tf.truncated_normal([conv_num_outputs],mean=0.0,stddev=1.0))\n",
    "    conv_layer=tf.nn.conv2d(x_tensor,weight_conv,strides=(1,conv_strides[0],conv_strides[1],1),padding='SAME')\n",
    "    conv_layer=tf.nn.bias_add(conv_layer,bias_conv)\n",
    "    conv_layer=tf.nn.softmax(conv_layer)\n",
    "    \n",
    "    conv_layer=tf.nn.max_pool(conv_layer,ksize=[1,pool_ksize[0],pool_ksize[1],1],strides=[1,pool_strides[0],pool_strides[1],1],padding='SAME')\n",
    "    \n",
    "    return conv_layer \n",
    "\n",
    "\n",
    "\"\"\"\n",
    "DON'T MODIFY ANYTHING IN THIS CELL THAT IS BELOW THIS LINE\n",
    "\"\"\"\n",
    "tests.test_con_pool(conv2d_maxpool)"
   ]
  },
  {
   "cell_type": "markdown",
   "metadata": {},
   "source": [
    "### Flatten Layer\n",
    "Implement the `flatten` function to change the dimension of `x_tensor` from a 4-D tensor to a 2-D tensor.  The output should be the shape (*Batch Size*, *Flattened Image Size*). Shortcut option: you can use classes from the [TensorFlow Layers](https://www.tensorflow.org/api_docs/python/tf/layers) or [TensorFlow Layers (contrib)](https://www.tensorflow.org/api_guides/python/contrib.layers) packages for this layer. For more of a challenge, only use other TensorFlow packages."
   ]
  },
  {
   "cell_type": "code",
   "execution_count": 45,
   "metadata": {},
   "outputs": [
    {
     "name": "stdout",
     "output_type": "stream",
     "text": [
      "1800\n",
      "Tests Passed\n"
     ]
    }
   ],
   "source": [
    "def flatten(x_tensor):\n",
    "    \"\"\"\n",
    "    Flatten x_tensor to (Batch Size, Flattened Image Size)\n",
    "    : x_tensor: A tensor of size (Batch Size, ...), where ... are the image dimensions.\n",
    "    : return: A tensor of size (Batch Size, Flattened Image Size).\n",
    "    \"\"\"\n",
    "    # TODO: Implement Function\n",
    "    new_dim=int(x_tensor.shape[1]*x_tensor.shape[2]*x_tensor.shape[3])\n",
    "    print(new_dim)\n",
    "    return tf.reshape(x_tensor,shape=[-1,new_dim])\n",
    "\n",
    "\n",
    "\"\"\"\n",
    "DON'T MODIFY ANYTHING IN THIS CELL THAT IS BELOW THIS LINE\n",
    "\"\"\"\n",
    "tests.test_flatten(flatten)"
   ]
  },
  {
   "cell_type": "markdown",
   "metadata": {},
   "source": [
    "### Fully-Connected Layer\n",
    "Implement the `fully_conn` function to apply a fully connected layer to `x_tensor` with the shape (*Batch Size*, *num_outputs*). Shortcut option: you can use classes from the [TensorFlow Layers](https://www.tensorflow.org/api_docs/python/tf/layers) or [TensorFlow Layers (contrib)](https://www.tensorflow.org/api_guides/python/contrib.layers) packages for this layer. For more of a challenge, only use other TensorFlow packages."
   ]
  },
  {
   "cell_type": "code",
   "execution_count": 46,
   "metadata": {},
   "outputs": [
    {
     "name": "stdout",
     "output_type": "stream",
     "text": [
      "Tests Passed\n"
     ]
    }
   ],
   "source": [
    "def fully_conn(x_tensor, num_outputs):\n",
    "    \"\"\"\n",
    "    Apply a fully connected layer to x_tensor using weight and bias\n",
    "    : x_tensor: A 2-D tensor where the first dimension is batch size.\n",
    "    : num_outputs: The number of output that the new tensor should be.\n",
    "    : return: A 2-D tensor where the second dimension is num_outputs.\n",
    "    \"\"\"\n",
    "    # TODO: Implement Function\n",
    "    weights=tf.Variable(tf.truncated_normal([int(x_tensor.shape[1]),num_outputs],mean=0.0,stddev=.05,dtype=tf.float32))\n",
    "    bias=tf.Variable(tf.truncated_normal([num_outputs],mean=0.0,stddev=.05,dtype=tf.float32))\n",
    "    layer_output=tf.matmul(x_tensor,weights)\n",
    "    layer_output=tf.nn.bias_add(layer_output,bias)\n",
    "    return tf.nn.relu(layer_output)\n",
    "\n",
    "\n",
    "\"\"\"\n",
    "DON'T MODIFY ANYTHING IN THIS CELL THAT IS BELOW THIS LINE\n",
    "\"\"\"\n",
    "tests.test_fully_conn(fully_conn)"
   ]
  },
  {
   "cell_type": "markdown",
   "metadata": {},
   "source": [
    "### Output Layer\n",
    "Implement the `output` function to apply a fully connected layer to `x_tensor` with the shape (*Batch Size*, *num_outputs*). Shortcut option: you can use classes from the [TensorFlow Layers](https://www.tensorflow.org/api_docs/python/tf/layers) or [TensorFlow Layers (contrib)](https://www.tensorflow.org/api_guides/python/contrib.layers) packages for this layer. For more of a challenge, only use other TensorFlow packages.\n",
    "\n",
    "**Note:** Activation, softmax, or cross entropy should **not** be applied to this."
   ]
  },
  {
   "cell_type": "code",
   "execution_count": 69,
   "metadata": {},
   "outputs": [
    {
     "name": "stdout",
     "output_type": "stream",
     "text": [
      "Tests Passed\n"
     ]
    }
   ],
   "source": [
    "def output(x_tensor, num_outputs):\n",
    "    \"\"\"\n",
    "    Apply a output layer to x_tensor using weight and bias\n",
    "    : x_tensor: A 2-D tensor where the first dimension is batch size.\n",
    "    : num_outputs: The number of output that the new tensor should be.\n",
    "    : return: A 2-D tensor where the second dimension is num_outputs.\n",
    "    \"\"\"\n",
    "    # TODO: Implement Function\n",
    "    weights=tf.Variable(tf.truncated_normal([int(x_tensor.shape[1]),num_outputs],mean=0.0,stddev=.05,dtype=tf.float32))\n",
    "    bias=tf.Variable(tf.truncated_normal([num_outputs],mean=0.0,stddev=.05,dtype=tf.float32))\n",
    "    layer_output=tf.matmul(x_tensor,weights)\n",
    "    layer_output=tf.nn.bias_add(layer_output,bias)\n",
    "    return layer_output\n",
    "    \n",
    "\n",
    "\n",
    "\"\"\"\n",
    "DON'T MODIFY ANYTHING IN THIS CELL THAT IS BELOW THIS LINE\n",
    "\"\"\"\n",
    "tests.test_output(output)"
   ]
  },
  {
   "cell_type": "markdown",
   "metadata": {},
   "source": [
    "### Create Convolutional Model\n",
    "Implement the function `conv_net` to create a convolutional neural network model. The function takes in a batch of images, `x`, and outputs logits.  Use the layers you created above to create this model:\n",
    "\n",
    "* Apply 1, 2, or 3 Convolution and Max Pool layers\n",
    "* Apply a Flatten Layer\n",
    "* Apply 1, 2, or 3 Fully Connected Layers\n",
    "* Apply an Output Layer\n",
    "* Return the output\n",
    "* Apply [TensorFlow's Dropout](https://www.tensorflow.org/api_docs/python/tf/nn/dropout) to one or more layers in the model using `keep_prob`. "
   ]
  },
  {
   "cell_type": "code",
   "execution_count": 64,
   "metadata": {},
   "outputs": [
    {
     "name": "stdout",
     "output_type": "stream",
     "text": [
      "9600\n",
      "9600\n",
      "Neural Network Built!\n"
     ]
    }
   ],
   "source": [
    "def conv_net(x, keep_prob):\n",
    "    \"\"\"\n",
    "    Create a convolutional neural network model\n",
    "    : x: Placeholder tensor that holds image data.\n",
    "    : keep_prob: Placeholder tensor that hold dropout keep probability.\n",
    "    : return: Tensor that represents logits\n",
    "    \"\"\"\n",
    "    # TODO: Apply 1, 2, or 3 Convolution and Max Pool layers\n",
    "    #    Play around with different number of outputs, kernel size and stride\n",
    "    # Function Definition from Above:\n",
    "    #    conv2d_maxpool(x_tensor, conv_num_outputs, conv_ksize, conv_strides, pool_ksize, pool_strides)\n",
    "    \n",
    "    x_tensor=conv2d_maxpool(x, 200, (2,2),(1,1),(2,2), (2,2))\n",
    "    x_tensor=conv2d_maxpool(x, 150, (2,2),(2,2),(2,2), (2,2))\n",
    "   \n",
    "    \n",
    "    # TODO: Apply a Flatten Layer\n",
    "    # Function Definition from Above:\n",
    "    #   flatten(x_tensor)\n",
    "    \n",
    "    x_tensor=flatten(x_tensor)\n",
    "    \n",
    "\n",
    "    # TODO: Apply 1, 2, or 3 Fully Connected Layers\n",
    "    #    Play around with different number of outputs\n",
    "    # Function Definition from Above:\n",
    "    #   fully_conn(x_tensor, num_outputs)\n",
    "    \n",
    "    x_tensor=fully_conn(x_tensor, 100)\n",
    "    x_tensor=tf.nn.dropout(x_tensor,keep_prob)\n",
    "    \n",
    "    \n",
    "    # TODO: Apply an Output Layer\n",
    "    #    Set this to the number of classes\n",
    "    # Function Definition from Above:\n",
    "    #   output(x_tensor, num_outputs)\n",
    "    x_tensor=output(x_tensor, 10)\n",
    "    \n",
    "    # TODO: return output\n",
    "    return x_tensor\n",
    "\n",
    "\n",
    "\"\"\"\n",
    "DON'T MODIFY ANYTHING IN THIS CELL THAT IS BELOW THIS LINE\n",
    "\"\"\"\n",
    "\n",
    "##############################\n",
    "## Build the Neural Network ##\n",
    "##############################\n",
    "\n",
    "# Remove previous weights, bias, inputs, etc..\n",
    "tf.reset_default_graph()\n",
    "\n",
    "# Inputs\n",
    "x = neural_net_image_input((32, 32, 3))\n",
    "y = neural_net_label_input(10)\n",
    "keep_prob = neural_net_keep_prob_input()\n",
    "\n",
    "# Model\n",
    "logits = conv_net(x, keep_prob)\n",
    "\n",
    "# Name logits Tensor, so that is can be loaded from disk after training\n",
    "logits = tf.identity(logits, name='logits')\n",
    "\n",
    "# Loss and Optimizer\n",
    "cost = tf.reduce_mean(tf.nn.softmax_cross_entropy_with_logits(logits=logits, labels=y))\n",
    "optimizer = tf.train.AdamOptimizer().minimize(cost)\n",
    "\n",
    "# Accuracy\n",
    "correct_pred = tf.equal(tf.argmax(logits, 1), tf.argmax(y, 1))\n",
    "accuracy = tf.reduce_mean(tf.cast(correct_pred, tf.float32), name='accuracy')\n",
    "\n",
    "tests.test_conv_net(conv_net)"
   ]
  },
  {
   "cell_type": "markdown",
   "metadata": {},
   "source": [
    "## Train the Neural Network\n",
    "### Single Optimization\n",
    "Implement the function `train_neural_network` to do a single optimization.  The optimization should use `optimizer` to optimize in `session` with a `feed_dict` of the following:\n",
    "* `x` for image input\n",
    "* `y` for labels\n",
    "* `keep_prob` for keep probability for dropout\n",
    "\n",
    "This function will be called for each batch, so `tf.global_variables_initializer()` has already been called.\n",
    "\n",
    "Note: Nothing needs to be returned. This function is only optimizing the neural network."
   ]
  },
  {
   "cell_type": "code",
   "execution_count": 65,
   "metadata": {},
   "outputs": [
    {
     "name": "stdout",
     "output_type": "stream",
     "text": [
      "Tests Passed\n"
     ]
    }
   ],
   "source": [
    "def train_neural_network(session, optimizer, keep_probability, feature_batch, label_batch):\n",
    "    \"\"\"\n",
    "    Optimize the session on a batch of images and labels\n",
    "    : session: Current TensorFlow session\n",
    "    : optimizer: TensorFlow optimizer function\n",
    "    : keep_probability: keep probability\n",
    "    : feature_batch: Batch of Numpy image data\n",
    "    : label_batch: Batch of Numpy label data\n",
    "    \"\"\"\n",
    "    # TODO: Implement Function\n",
    "    session.run(optimizer,feed_dict={x:feature_batch,y:label_batch,keep_prob:keep_probability})\n",
    "    pass\n",
    "\n",
    "\n",
    "\"\"\"\n",
    "DON'T MODIFY ANYTHING IN THIS CELL THAT IS BELOW THIS LINE\n",
    "\"\"\"\n",
    "tests.test_train_nn(train_neural_network)"
   ]
  },
  {
   "cell_type": "markdown",
   "metadata": {},
   "source": [
    "### Show Stats\n",
    "Implement the function `print_stats` to print loss and validation accuracy.  Use the global variables `valid_features` and `valid_labels` to calculate validation accuracy.  Use a keep probability of `1.0` to calculate the loss and validation accuracy."
   ]
  },
  {
   "cell_type": "code",
   "execution_count": 61,
   "metadata": {
    "collapsed": true
   },
   "outputs": [],
   "source": [
    "def print_stats(session, feature_batch, label_batch, cost, accuracy):\n",
    "    \"\"\"\n",
    "    Print information about loss and validation accuracy\n",
    "    : session: Current TensorFlow session\n",
    "    : feature_batch: Batch of Numpy image data\n",
    "    : label_batch: Batch of Numpy label data\n",
    "    : cost: TensorFlow cost function\n",
    "    : accuracy: TensorFlow accuracy function\n",
    "    \"\"\"\n",
    "    # TODO: Implement Function\n",
    "    loss = sess.run(cost, feed_dict={x: feature_batch, y:label_batch, keep_prob: 1.})\n",
    "    valid_acc = sess.run(accuracy, feed_dict={x: valid_features, y:valid_labels,keep_prob: 1.})\n",
    "    print('Loss: {:>10.4f} Validation Accuracy: {:.6f}'.format(loss,valid_acc))\n",
    "    pass"
   ]
  },
  {
   "cell_type": "markdown",
   "metadata": {},
   "source": [
    "### Hyperparameters\n",
    "Tune the following parameters:\n",
    "* Set `epochs` to the number of iterations until the network stops learning or start overfitting\n",
    "* Set `batch_size` to the highest number that your machine has memory for.  Most people set them to common sizes of memory:\n",
    " * 64\n",
    " * 128\n",
    " * 256\n",
    " * ...\n",
    "* Set `keep_probability` to the probability of keeping a node using dropout"
   ]
  },
  {
   "cell_type": "code",
   "execution_count": 67,
   "metadata": {
    "collapsed": true
   },
   "outputs": [],
   "source": [
    "# TODO: Tune Parameters\n",
    "epochs = 50\n",
    "batch_size = 256\n",
    "keep_probability = 0.7"
   ]
  },
  {
   "cell_type": "markdown",
   "metadata": {},
   "source": [
    "### Train on a Single CIFAR-10 Batch\n",
    "Instead of training the neural network on all the CIFAR-10 batches of data, let's use a single batch. This should save time while you iterate on the model to get a better accuracy.  Once the final validation accuracy is 50% or greater, run the model on all the data in the next section."
   ]
  },
  {
   "cell_type": "code",
   "execution_count": 68,
   "metadata": {},
   "outputs": [
    {
     "name": "stdout",
     "output_type": "stream",
     "text": [
      "Checking the Training on a Single Batch...\n",
      "Epoch  1, CIFAR-10 Batch 1:  Loss:     2.1968 Validation Accuracy: 0.244200\n",
      "Epoch  2, CIFAR-10 Batch 1:  Loss:     2.0873 Validation Accuracy: 0.283200\n",
      "Epoch  3, CIFAR-10 Batch 1:  Loss:     2.0412 Validation Accuracy: 0.320000\n",
      "Epoch  4, CIFAR-10 Batch 1:  Loss:     1.9852 Validation Accuracy: 0.346200\n",
      "Epoch  5, CIFAR-10 Batch 1:  Loss:     1.9265 Validation Accuracy: 0.363400\n",
      "Epoch  6, CIFAR-10 Batch 1:  Loss:     1.8820 Validation Accuracy: 0.378400\n",
      "Epoch  7, CIFAR-10 Batch 1:  Loss:     1.8237 Validation Accuracy: 0.392600\n",
      "Epoch  8, CIFAR-10 Batch 1:  Loss:     1.7716 Validation Accuracy: 0.401600\n",
      "Epoch  9, CIFAR-10 Batch 1:  Loss:     1.7279 Validation Accuracy: 0.410000\n",
      "Epoch 10, CIFAR-10 Batch 1:  Loss:     1.6796 Validation Accuracy: 0.417800\n"
     ]
    },
    {
     "ename": "KeyboardInterrupt",
     "evalue": "",
     "output_type": "error",
     "traceback": [
      "\u001b[0;31m---------------------------------------------------------------------------\u001b[0m",
      "\u001b[0;31mKeyboardInterrupt\u001b[0m                         Traceback (most recent call last)",
      "\u001b[0;32m<ipython-input-68-45f69e88abb3>\u001b[0m in \u001b[0;36m<module>\u001b[0;34m()\u001b[0m\n\u001b[1;32m     11\u001b[0m         \u001b[0mbatch_i\u001b[0m \u001b[0;34m=\u001b[0m \u001b[0;36m1\u001b[0m\u001b[0;34m\u001b[0m\u001b[0m\n\u001b[1;32m     12\u001b[0m         \u001b[0;32mfor\u001b[0m \u001b[0mbatch_features\u001b[0m\u001b[0;34m,\u001b[0m \u001b[0mbatch_labels\u001b[0m \u001b[0;32min\u001b[0m \u001b[0mhelper\u001b[0m\u001b[0;34m.\u001b[0m\u001b[0mload_preprocess_training_batch\u001b[0m\u001b[0;34m(\u001b[0m\u001b[0mbatch_i\u001b[0m\u001b[0;34m,\u001b[0m \u001b[0mbatch_size\u001b[0m\u001b[0;34m)\u001b[0m\u001b[0;34m:\u001b[0m\u001b[0;34m\u001b[0m\u001b[0m\n\u001b[0;32m---> 13\u001b[0;31m             \u001b[0mtrain_neural_network\u001b[0m\u001b[0;34m(\u001b[0m\u001b[0msess\u001b[0m\u001b[0;34m,\u001b[0m \u001b[0moptimizer\u001b[0m\u001b[0;34m,\u001b[0m \u001b[0mkeep_probability\u001b[0m\u001b[0;34m,\u001b[0m \u001b[0mbatch_features\u001b[0m\u001b[0;34m,\u001b[0m \u001b[0mbatch_labels\u001b[0m\u001b[0;34m)\u001b[0m\u001b[0;34m\u001b[0m\u001b[0m\n\u001b[0m\u001b[1;32m     14\u001b[0m         \u001b[0mprint\u001b[0m\u001b[0;34m(\u001b[0m\u001b[0;34m'Epoch {:>2}, CIFAR-10 Batch {}:  '\u001b[0m\u001b[0;34m.\u001b[0m\u001b[0mformat\u001b[0m\u001b[0;34m(\u001b[0m\u001b[0mepoch\u001b[0m \u001b[0;34m+\u001b[0m \u001b[0;36m1\u001b[0m\u001b[0;34m,\u001b[0m \u001b[0mbatch_i\u001b[0m\u001b[0;34m)\u001b[0m\u001b[0;34m,\u001b[0m \u001b[0mend\u001b[0m\u001b[0;34m=\u001b[0m\u001b[0;34m''\u001b[0m\u001b[0;34m)\u001b[0m\u001b[0;34m\u001b[0m\u001b[0m\n\u001b[1;32m     15\u001b[0m         \u001b[0mprint_stats\u001b[0m\u001b[0;34m(\u001b[0m\u001b[0msess\u001b[0m\u001b[0;34m,\u001b[0m \u001b[0mbatch_features\u001b[0m\u001b[0;34m,\u001b[0m \u001b[0mbatch_labels\u001b[0m\u001b[0;34m,\u001b[0m \u001b[0mcost\u001b[0m\u001b[0;34m,\u001b[0m \u001b[0maccuracy\u001b[0m\u001b[0;34m)\u001b[0m\u001b[0;34m\u001b[0m\u001b[0m\n",
      "\u001b[0;32m<ipython-input-65-0fb79aef7b53>\u001b[0m in \u001b[0;36mtrain_neural_network\u001b[0;34m(session, optimizer, keep_probability, feature_batch, label_batch)\u001b[0m\n\u001b[1;32m      9\u001b[0m     \"\"\"\n\u001b[1;32m     10\u001b[0m     \u001b[0;31m# TODO: Implement Function\u001b[0m\u001b[0;34m\u001b[0m\u001b[0;34m\u001b[0m\u001b[0m\n\u001b[0;32m---> 11\u001b[0;31m     \u001b[0msession\u001b[0m\u001b[0;34m.\u001b[0m\u001b[0mrun\u001b[0m\u001b[0;34m(\u001b[0m\u001b[0moptimizer\u001b[0m\u001b[0;34m,\u001b[0m\u001b[0mfeed_dict\u001b[0m\u001b[0;34m=\u001b[0m\u001b[0;34m{\u001b[0m\u001b[0mx\u001b[0m\u001b[0;34m:\u001b[0m\u001b[0mfeature_batch\u001b[0m\u001b[0;34m,\u001b[0m\u001b[0my\u001b[0m\u001b[0;34m:\u001b[0m\u001b[0mlabel_batch\u001b[0m\u001b[0;34m,\u001b[0m\u001b[0mkeep_prob\u001b[0m\u001b[0;34m:\u001b[0m\u001b[0mkeep_probability\u001b[0m\u001b[0;34m}\u001b[0m\u001b[0;34m)\u001b[0m\u001b[0;34m\u001b[0m\u001b[0m\n\u001b[0m\u001b[1;32m     12\u001b[0m     \u001b[0;32mpass\u001b[0m\u001b[0;34m\u001b[0m\u001b[0m\n\u001b[1;32m     13\u001b[0m \u001b[0;34m\u001b[0m\u001b[0m\n",
      "\u001b[0;32m/Users/pranav/anaconda/lib/python3.6/site-packages/tensorflow/python/client/session.py\u001b[0m in \u001b[0;36mrun\u001b[0;34m(self, fetches, feed_dict, options, run_metadata)\u001b[0m\n\u001b[1;32m    787\u001b[0m     \u001b[0;32mtry\u001b[0m\u001b[0;34m:\u001b[0m\u001b[0;34m\u001b[0m\u001b[0m\n\u001b[1;32m    788\u001b[0m       result = self._run(None, fetches, feed_dict, options_ptr,\n\u001b[0;32m--> 789\u001b[0;31m                          run_metadata_ptr)\n\u001b[0m\u001b[1;32m    790\u001b[0m       \u001b[0;32mif\u001b[0m \u001b[0mrun_metadata\u001b[0m\u001b[0;34m:\u001b[0m\u001b[0;34m\u001b[0m\u001b[0m\n\u001b[1;32m    791\u001b[0m         \u001b[0mproto_data\u001b[0m \u001b[0;34m=\u001b[0m \u001b[0mtf_session\u001b[0m\u001b[0;34m.\u001b[0m\u001b[0mTF_GetBuffer\u001b[0m\u001b[0;34m(\u001b[0m\u001b[0mrun_metadata_ptr\u001b[0m\u001b[0;34m)\u001b[0m\u001b[0;34m\u001b[0m\u001b[0m\n",
      "\u001b[0;32m/Users/pranav/anaconda/lib/python3.6/site-packages/tensorflow/python/client/session.py\u001b[0m in \u001b[0;36m_run\u001b[0;34m(self, handle, fetches, feed_dict, options, run_metadata)\u001b[0m\n\u001b[1;32m    995\u001b[0m     \u001b[0;32mif\u001b[0m \u001b[0mfinal_fetches\u001b[0m \u001b[0;32mor\u001b[0m \u001b[0mfinal_targets\u001b[0m\u001b[0;34m:\u001b[0m\u001b[0;34m\u001b[0m\u001b[0m\n\u001b[1;32m    996\u001b[0m       results = self._do_run(handle, final_targets, final_fetches,\n\u001b[0;32m--> 997\u001b[0;31m                              feed_dict_string, options, run_metadata)\n\u001b[0m\u001b[1;32m    998\u001b[0m     \u001b[0;32melse\u001b[0m\u001b[0;34m:\u001b[0m\u001b[0;34m\u001b[0m\u001b[0m\n\u001b[1;32m    999\u001b[0m       \u001b[0mresults\u001b[0m \u001b[0;34m=\u001b[0m \u001b[0;34m[\u001b[0m\u001b[0;34m]\u001b[0m\u001b[0;34m\u001b[0m\u001b[0m\n",
      "\u001b[0;32m/Users/pranav/anaconda/lib/python3.6/site-packages/tensorflow/python/client/session.py\u001b[0m in \u001b[0;36m_do_run\u001b[0;34m(self, handle, target_list, fetch_list, feed_dict, options, run_metadata)\u001b[0m\n\u001b[1;32m   1130\u001b[0m     \u001b[0;32mif\u001b[0m \u001b[0mhandle\u001b[0m \u001b[0;32mis\u001b[0m \u001b[0;32mNone\u001b[0m\u001b[0;34m:\u001b[0m\u001b[0;34m\u001b[0m\u001b[0m\n\u001b[1;32m   1131\u001b[0m       return self._do_call(_run_fn, self._session, feed_dict, fetch_list,\n\u001b[0;32m-> 1132\u001b[0;31m                            target_list, options, run_metadata)\n\u001b[0m\u001b[1;32m   1133\u001b[0m     \u001b[0;32melse\u001b[0m\u001b[0;34m:\u001b[0m\u001b[0;34m\u001b[0m\u001b[0m\n\u001b[1;32m   1134\u001b[0m       return self._do_call(_prun_fn, self._session, handle, feed_dict,\n",
      "\u001b[0;32m/Users/pranav/anaconda/lib/python3.6/site-packages/tensorflow/python/client/session.py\u001b[0m in \u001b[0;36m_do_call\u001b[0;34m(self, fn, *args)\u001b[0m\n\u001b[1;32m   1137\u001b[0m   \u001b[0;32mdef\u001b[0m \u001b[0m_do_call\u001b[0m\u001b[0;34m(\u001b[0m\u001b[0mself\u001b[0m\u001b[0;34m,\u001b[0m \u001b[0mfn\u001b[0m\u001b[0;34m,\u001b[0m \u001b[0;34m*\u001b[0m\u001b[0margs\u001b[0m\u001b[0;34m)\u001b[0m\u001b[0;34m:\u001b[0m\u001b[0;34m\u001b[0m\u001b[0m\n\u001b[1;32m   1138\u001b[0m     \u001b[0;32mtry\u001b[0m\u001b[0;34m:\u001b[0m\u001b[0;34m\u001b[0m\u001b[0m\n\u001b[0;32m-> 1139\u001b[0;31m       \u001b[0;32mreturn\u001b[0m \u001b[0mfn\u001b[0m\u001b[0;34m(\u001b[0m\u001b[0;34m*\u001b[0m\u001b[0margs\u001b[0m\u001b[0;34m)\u001b[0m\u001b[0;34m\u001b[0m\u001b[0m\n\u001b[0m\u001b[1;32m   1140\u001b[0m     \u001b[0;32mexcept\u001b[0m \u001b[0merrors\u001b[0m\u001b[0;34m.\u001b[0m\u001b[0mOpError\u001b[0m \u001b[0;32mas\u001b[0m \u001b[0me\u001b[0m\u001b[0;34m:\u001b[0m\u001b[0;34m\u001b[0m\u001b[0m\n\u001b[1;32m   1141\u001b[0m       \u001b[0mmessage\u001b[0m \u001b[0;34m=\u001b[0m \u001b[0mcompat\u001b[0m\u001b[0;34m.\u001b[0m\u001b[0mas_text\u001b[0m\u001b[0;34m(\u001b[0m\u001b[0me\u001b[0m\u001b[0;34m.\u001b[0m\u001b[0mmessage\u001b[0m\u001b[0;34m)\u001b[0m\u001b[0;34m\u001b[0m\u001b[0m\n",
      "\u001b[0;32m/Users/pranav/anaconda/lib/python3.6/site-packages/tensorflow/python/client/session.py\u001b[0m in \u001b[0;36m_run_fn\u001b[0;34m(session, feed_dict, fetch_list, target_list, options, run_metadata)\u001b[0m\n\u001b[1;32m   1119\u001b[0m         return tf_session.TF_Run(session, options,\n\u001b[1;32m   1120\u001b[0m                                  \u001b[0mfeed_dict\u001b[0m\u001b[0;34m,\u001b[0m \u001b[0mfetch_list\u001b[0m\u001b[0;34m,\u001b[0m \u001b[0mtarget_list\u001b[0m\u001b[0;34m,\u001b[0m\u001b[0;34m\u001b[0m\u001b[0m\n\u001b[0;32m-> 1121\u001b[0;31m                                  status, run_metadata)\n\u001b[0m\u001b[1;32m   1122\u001b[0m \u001b[0;34m\u001b[0m\u001b[0m\n\u001b[1;32m   1123\u001b[0m     \u001b[0;32mdef\u001b[0m \u001b[0m_prun_fn\u001b[0m\u001b[0;34m(\u001b[0m\u001b[0msession\u001b[0m\u001b[0;34m,\u001b[0m \u001b[0mhandle\u001b[0m\u001b[0;34m,\u001b[0m \u001b[0mfeed_dict\u001b[0m\u001b[0;34m,\u001b[0m \u001b[0mfetch_list\u001b[0m\u001b[0;34m)\u001b[0m\u001b[0;34m:\u001b[0m\u001b[0;34m\u001b[0m\u001b[0m\n",
      "\u001b[0;31mKeyboardInterrupt\u001b[0m: "
     ]
    }
   ],
   "source": [
    "\"\"\"\n",
    "DON'T MODIFY ANYTHING IN THISCELL\n",
    "\"\"\"\n",
    "print('Checking the Training on a Single Batch...')\n",
    "with tf.Session() as sess:\n",
    "    # Initializing the variables\n",
    "    sess.run(tf.global_variables_initializer())\n",
    "    \n",
    "    # Training cycle\n",
    "    for epoch in range(epochs):\n",
    "        batch_i = 1\n",
    "        for batch_features, batch_labels in helper.load_preprocess_training_batch(batch_i, batch_size):\n",
    "            train_neural_network(sess, optimizer, keep_probability, batch_features, batch_labels)\n",
    "        print('Epoch {:>2}, CIFAR-10 Batch {}:  '.format(epoch + 1, batch_i), end='')\n",
    "        print_stats(sess, batch_features, batch_labels, cost, accuracy)"
   ]
  },
  {
   "cell_type": "markdown",
   "metadata": {},
   "source": [
    "### Fully Train the Model\n",
    "Now that you got a good accuracy with a single CIFAR-10 batch, try it with all five batches."
   ]
  },
  {
   "cell_type": "code",
   "execution_count": 32,
   "metadata": {},
   "outputs": [
    {
     "name": "stdout",
     "output_type": "stream",
     "text": [
      "Training...\n",
      "Epoch  1, CIFAR-10 Batch 1:  Loss:     2.1821 Validation Accuracy: 0.220800\n",
      "Epoch  1, CIFAR-10 Batch 2:  Loss:     2.0574 Validation Accuracy: 0.297200\n",
      "Epoch  1, CIFAR-10 Batch 3:  Loss:     1.8261 Validation Accuracy: 0.321200\n",
      "Epoch  1, CIFAR-10 Batch 4:  Loss:     1.9196 Validation Accuracy: 0.345800\n",
      "Epoch  1, CIFAR-10 Batch 5:  Loss:     1.8864 Validation Accuracy: 0.354400\n",
      "Epoch  2, CIFAR-10 Batch 1:  Loss:     2.0161 Validation Accuracy: 0.378400\n",
      "Epoch  2, CIFAR-10 Batch 2:  Loss:     1.7910 Validation Accuracy: 0.392400\n",
      "Epoch  2, CIFAR-10 Batch 3:  Loss:     1.6082 Validation Accuracy: 0.393400\n",
      "Epoch  2, CIFAR-10 Batch 4:  Loss:     1.6719 Validation Accuracy: 0.420400\n",
      "Epoch  2, CIFAR-10 Batch 5:  Loss:     1.6854 Validation Accuracy: 0.430600\n",
      "Epoch  3, CIFAR-10 Batch 1:  Loss:     1.8499 Validation Accuracy: 0.435200\n",
      "Epoch  3, CIFAR-10 Batch 2:  Loss:     1.5979 Validation Accuracy: 0.447600\n",
      "Epoch  3, CIFAR-10 Batch 3:  Loss:     1.3906 Validation Accuracy: 0.446600\n",
      "Epoch  3, CIFAR-10 Batch 4:  Loss:     1.5036 Validation Accuracy: 0.466200\n",
      "Epoch  3, CIFAR-10 Batch 5:  Loss:     1.5481 Validation Accuracy: 0.469000\n",
      "Epoch  4, CIFAR-10 Batch 1:  Loss:     1.6884 Validation Accuracy: 0.476000\n",
      "Epoch  4, CIFAR-10 Batch 2:  Loss:     1.4522 Validation Accuracy: 0.483800\n",
      "Epoch  4, CIFAR-10 Batch 3:  Loss:     1.2602 Validation Accuracy: 0.479400\n",
      "Epoch  4, CIFAR-10 Batch 4:  Loss:     1.4054 Validation Accuracy: 0.495600\n",
      "Epoch  4, CIFAR-10 Batch 5:  Loss:     1.4391 Validation Accuracy: 0.499600\n",
      "Epoch  5, CIFAR-10 Batch 1:  Loss:     1.5646 Validation Accuracy: 0.499000\n",
      "Epoch  5, CIFAR-10 Batch 2:  Loss:     1.3534 Validation Accuracy: 0.510400\n",
      "Epoch  5, CIFAR-10 Batch 3:  Loss:     1.1637 Validation Accuracy: 0.501400\n",
      "Epoch  5, CIFAR-10 Batch 4:  Loss:     1.3186 Validation Accuracy: 0.513000\n",
      "Epoch  5, CIFAR-10 Batch 5:  Loss:     1.3454 Validation Accuracy: 0.515800\n",
      "Epoch  6, CIFAR-10 Batch 1:  Loss:     1.4759 Validation Accuracy: 0.518400\n",
      "Epoch  6, CIFAR-10 Batch 2:  Loss:     1.2615 Validation Accuracy: 0.520200\n",
      "Epoch  6, CIFAR-10 Batch 3:  Loss:     1.0966 Validation Accuracy: 0.516400\n",
      "Epoch  6, CIFAR-10 Batch 4:  Loss:     1.2561 Validation Accuracy: 0.526600\n",
      "Epoch  6, CIFAR-10 Batch 5:  Loss:     1.2602 Validation Accuracy: 0.527200\n",
      "Epoch  7, CIFAR-10 Batch 1:  Loss:     1.4082 Validation Accuracy: 0.526600\n",
      "Epoch  7, CIFAR-10 Batch 2:  Loss:     1.1960 Validation Accuracy: 0.530400\n",
      "Epoch  7, CIFAR-10 Batch 3:  Loss:     1.0410 Validation Accuracy: 0.528200\n",
      "Epoch  7, CIFAR-10 Batch 4:  Loss:     1.2000 Validation Accuracy: 0.539200\n",
      "Epoch  7, CIFAR-10 Batch 5:  Loss:     1.1839 Validation Accuracy: 0.537000\n",
      "Epoch  8, CIFAR-10 Batch 1:  Loss:     1.3750 Validation Accuracy: 0.534400\n",
      "Epoch  8, CIFAR-10 Batch 2:  Loss:     1.1306 Validation Accuracy: 0.537000\n",
      "Epoch  8, CIFAR-10 Batch 3:  Loss:     0.9952 Validation Accuracy: 0.535800\n",
      "Epoch  8, CIFAR-10 Batch 4:  Loss:     1.1594 Validation Accuracy: 0.544200\n",
      "Epoch  8, CIFAR-10 Batch 5:  Loss:     1.1091 Validation Accuracy: 0.549200\n",
      "Epoch  9, CIFAR-10 Batch 1:  Loss:     1.3135 Validation Accuracy: 0.540800\n",
      "Epoch  9, CIFAR-10 Batch 2:  Loss:     1.0827 Validation Accuracy: 0.542600\n",
      "Epoch  9, CIFAR-10 Batch 3:  Loss:     0.9345 Validation Accuracy: 0.541400\n",
      "Epoch  9, CIFAR-10 Batch 4:  Loss:     1.1051 Validation Accuracy: 0.556200\n",
      "Epoch  9, CIFAR-10 Batch 5:  Loss:     1.0612 Validation Accuracy: 0.554400\n",
      "Epoch 10, CIFAR-10 Batch 1:  Loss:     1.2641 Validation Accuracy: 0.552000\n",
      "Epoch 10, CIFAR-10 Batch 2:  Loss:     1.0265 Validation Accuracy: 0.545800\n",
      "Epoch 10, CIFAR-10 Batch 3:  Loss:     0.9093 Validation Accuracy: 0.548000\n",
      "Epoch 10, CIFAR-10 Batch 4:  Loss:     1.0695 Validation Accuracy: 0.559200\n",
      "Epoch 10, CIFAR-10 Batch 5:  Loss:     1.0144 Validation Accuracy: 0.564400\n",
      "Epoch 11, CIFAR-10 Batch 1:  Loss:     1.2344 Validation Accuracy: 0.550800\n",
      "Epoch 11, CIFAR-10 Batch 2:  Loss:     0.9784 Validation Accuracy: 0.551600\n",
      "Epoch 11, CIFAR-10 Batch 3:  Loss:     0.8536 Validation Accuracy: 0.553400\n",
      "Epoch 11, CIFAR-10 Batch 4:  Loss:     1.0320 Validation Accuracy: 0.563600\n",
      "Epoch 11, CIFAR-10 Batch 5:  Loss:     0.9728 Validation Accuracy: 0.560600\n",
      "Epoch 12, CIFAR-10 Batch 1:  Loss:     1.2078 Validation Accuracy: 0.559800\n",
      "Epoch 12, CIFAR-10 Batch 2:  Loss:     0.9244 Validation Accuracy: 0.555600\n",
      "Epoch 12, CIFAR-10 Batch 3:  Loss:     0.8209 Validation Accuracy: 0.561400\n",
      "Epoch 12, CIFAR-10 Batch 4:  Loss:     0.9936 Validation Accuracy: 0.569400\n",
      "Epoch 12, CIFAR-10 Batch 5:  Loss:     0.9255 Validation Accuracy: 0.567600\n",
      "Epoch 13, CIFAR-10 Batch 1:  Loss:     1.1518 Validation Accuracy: 0.561600\n",
      "Epoch 13, CIFAR-10 Batch 2:  Loss:     0.8903 Validation Accuracy: 0.561400\n",
      "Epoch 13, CIFAR-10 Batch 3:  Loss:     0.7852 Validation Accuracy: 0.564200\n",
      "Epoch 13, CIFAR-10 Batch 4:  Loss:     0.9673 Validation Accuracy: 0.577800\n",
      "Epoch 13, CIFAR-10 Batch 5:  Loss:     0.8638 Validation Accuracy: 0.572200\n",
      "Epoch 14, CIFAR-10 Batch 1:  Loss:     1.1109 Validation Accuracy: 0.567400\n",
      "Epoch 14, CIFAR-10 Batch 2:  Loss:     0.8616 Validation Accuracy: 0.565800\n",
      "Epoch 14, CIFAR-10 Batch 3:  Loss:     0.7549 Validation Accuracy: 0.563200\n",
      "Epoch 14, CIFAR-10 Batch 4:  Loss:     0.9233 Validation Accuracy: 0.578600\n",
      "Epoch 14, CIFAR-10 Batch 5:  Loss:     0.8446 Validation Accuracy: 0.575200\n",
      "Epoch 15, CIFAR-10 Batch 1:  Loss:     1.0768 Validation Accuracy: 0.568400\n",
      "Epoch 15, CIFAR-10 Batch 2:  Loss:     0.8125 Validation Accuracy: 0.568200\n",
      "Epoch 15, CIFAR-10 Batch 3:  Loss:     0.7197 Validation Accuracy: 0.569600\n",
      "Epoch 15, CIFAR-10 Batch 4:  Loss:     0.9101 Validation Accuracy: 0.577200\n",
      "Epoch 15, CIFAR-10 Batch 5:  Loss:     0.7969 Validation Accuracy: 0.577200\n",
      "Epoch 16, CIFAR-10 Batch 1:  Loss:     1.0402 Validation Accuracy: 0.573400\n",
      "Epoch 16, CIFAR-10 Batch 2:  Loss:     0.7819 Validation Accuracy: 0.575400\n",
      "Epoch 16, CIFAR-10 Batch 3:  Loss:     0.7001 Validation Accuracy: 0.573200\n",
      "Epoch 16, CIFAR-10 Batch 4:  Loss:     0.8720 Validation Accuracy: 0.579000\n",
      "Epoch 16, CIFAR-10 Batch 5:  Loss:     0.7524 Validation Accuracy: 0.578400\n",
      "Epoch 17, CIFAR-10 Batch 1:  Loss:     1.0072 Validation Accuracy: 0.578200\n",
      "Epoch 17, CIFAR-10 Batch 2:  Loss:     0.7609 Validation Accuracy: 0.575000\n",
      "Epoch 17, CIFAR-10 Batch 3:  Loss:     0.6556 Validation Accuracy: 0.576200\n",
      "Epoch 17, CIFAR-10 Batch 4:  Loss:     0.8233 Validation Accuracy: 0.582200\n",
      "Epoch 17, CIFAR-10 Batch 5:  Loss:     0.7347 Validation Accuracy: 0.582000\n",
      "Epoch 18, CIFAR-10 Batch 1:  Loss:     0.9954 Validation Accuracy: 0.577000\n",
      "Epoch 18, CIFAR-10 Batch 2:  Loss:     0.7265 Validation Accuracy: 0.575600\n",
      "Epoch 18, CIFAR-10 Batch 3:  Loss:     0.6582 Validation Accuracy: 0.577400\n",
      "Epoch 18, CIFAR-10 Batch 4:  Loss:     0.7903 Validation Accuracy: 0.584000\n",
      "Epoch 18, CIFAR-10 Batch 5:  Loss:     0.6964 Validation Accuracy: 0.582600\n",
      "Epoch 19, CIFAR-10 Batch 1:  Loss:     0.9720 Validation Accuracy: 0.584400\n",
      "Epoch 19, CIFAR-10 Batch 2:  Loss:     0.6987 Validation Accuracy: 0.579400\n",
      "Epoch 19, CIFAR-10 Batch 3:  Loss:     0.6375 Validation Accuracy: 0.582200\n",
      "Epoch 19, CIFAR-10 Batch 4:  Loss:     0.7621 Validation Accuracy: 0.590200\n",
      "Epoch 19, CIFAR-10 Batch 5:  Loss:     0.6788 Validation Accuracy: 0.587200\n",
      "Epoch 20, CIFAR-10 Batch 1:  Loss:     0.9260 Validation Accuracy: 0.586200\n",
      "Epoch 20, CIFAR-10 Batch 2:  Loss:     0.6819 Validation Accuracy: 0.578400\n",
      "Epoch 20, CIFAR-10 Batch 3:  Loss:     0.5908 Validation Accuracy: 0.586400\n",
      "Epoch 20, CIFAR-10 Batch 4:  Loss:     0.7328 Validation Accuracy: 0.589600\n",
      "Epoch 20, CIFAR-10 Batch 5:  Loss:     0.6543 Validation Accuracy: 0.589200\n",
      "Epoch 21, CIFAR-10 Batch 1:  Loss:     0.9095 Validation Accuracy: 0.585800\n",
      "Epoch 21, CIFAR-10 Batch 2:  Loss:     0.6728 Validation Accuracy: 0.585800\n",
      "Epoch 21, CIFAR-10 Batch 3:  Loss:     0.5909 Validation Accuracy: 0.589000\n",
      "Epoch 21, CIFAR-10 Batch 4:  Loss:     0.6936 Validation Accuracy: 0.593800\n",
      "Epoch 21, CIFAR-10 Batch 5:  Loss:     0.6148 Validation Accuracy: 0.590800\n",
      "Epoch 22, CIFAR-10 Batch 1:  Loss:     0.8583 Validation Accuracy: 0.592000\n",
      "Epoch 22, CIFAR-10 Batch 2:  Loss:     0.6481 Validation Accuracy: 0.585400\n",
      "Epoch 22, CIFAR-10 Batch 3:  Loss:     0.5681 Validation Accuracy: 0.591000\n"
     ]
    },
    {
     "name": "stdout",
     "output_type": "stream",
     "text": [
      "Epoch 22, CIFAR-10 Batch 4:  Loss:     0.6804 Validation Accuracy: 0.597600\n",
      "Epoch 22, CIFAR-10 Batch 5:  Loss:     0.6100 Validation Accuracy: 0.594600\n",
      "Epoch 23, CIFAR-10 Batch 1:  Loss:     0.8378 Validation Accuracy: 0.593000\n",
      "Epoch 23, CIFAR-10 Batch 2:  Loss:     0.6175 Validation Accuracy: 0.587200\n",
      "Epoch 23, CIFAR-10 Batch 3:  Loss:     0.5475 Validation Accuracy: 0.592600\n",
      "Epoch 23, CIFAR-10 Batch 4:  Loss:     0.6498 Validation Accuracy: 0.599600\n",
      "Epoch 23, CIFAR-10 Batch 5:  Loss:     0.5921 Validation Accuracy: 0.595800\n",
      "Epoch 24, CIFAR-10 Batch 1:  Loss:     0.8013 Validation Accuracy: 0.596400\n",
      "Epoch 24, CIFAR-10 Batch 2:  Loss:     0.5974 Validation Accuracy: 0.590600\n",
      "Epoch 24, CIFAR-10 Batch 3:  Loss:     0.5416 Validation Accuracy: 0.598200\n",
      "Epoch 24, CIFAR-10 Batch 4:  Loss:     0.6274 Validation Accuracy: 0.598800\n",
      "Epoch 24, CIFAR-10 Batch 5:  Loss:     0.5644 Validation Accuracy: 0.596800\n",
      "Epoch 25, CIFAR-10 Batch 1:  Loss:     0.7673 Validation Accuracy: 0.591800\n",
      "Epoch 25, CIFAR-10 Batch 2:  Loss:     0.5795 Validation Accuracy: 0.587800\n",
      "Epoch 25, CIFAR-10 Batch 3:  Loss:     0.5348 Validation Accuracy: 0.598400\n",
      "Epoch 25, CIFAR-10 Batch 4:  Loss:     0.6038 Validation Accuracy: 0.601400\n",
      "Epoch 25, CIFAR-10 Batch 5:  Loss:     0.5350 Validation Accuracy: 0.600600\n",
      "Epoch 26, CIFAR-10 Batch 1:  Loss:     0.7669 Validation Accuracy: 0.593800\n",
      "Epoch 26, CIFAR-10 Batch 2:  Loss:     0.5648 Validation Accuracy: 0.589200\n",
      "Epoch 26, CIFAR-10 Batch 3:  Loss:     0.5157 Validation Accuracy: 0.598600\n",
      "Epoch 26, CIFAR-10 Batch 4:  Loss:     0.5743 Validation Accuracy: 0.602400\n",
      "Epoch 26, CIFAR-10 Batch 5:  Loss:     0.5236 Validation Accuracy: 0.600000\n",
      "Epoch 27, CIFAR-10 Batch 1:  Loss:     0.7342 Validation Accuracy: 0.598800\n",
      "Epoch 27, CIFAR-10 Batch 2:  Loss:     0.5496 Validation Accuracy: 0.596000\n",
      "Epoch 27, CIFAR-10 Batch 3:  Loss:     0.4978 Validation Accuracy: 0.599400\n",
      "Epoch 27, CIFAR-10 Batch 4:  Loss:     0.5635 Validation Accuracy: 0.603400\n",
      "Epoch 27, CIFAR-10 Batch 5:  Loss:     0.5113 Validation Accuracy: 0.601800\n",
      "Epoch 28, CIFAR-10 Batch 1:  Loss:     0.7445 Validation Accuracy: 0.592600\n",
      "Epoch 28, CIFAR-10 Batch 2:  Loss:     0.5251 Validation Accuracy: 0.595400\n",
      "Epoch 28, CIFAR-10 Batch 3:  Loss:     0.4749 Validation Accuracy: 0.603400\n",
      "Epoch 28, CIFAR-10 Batch 4:  Loss:     0.5353 Validation Accuracy: 0.604800\n",
      "Epoch 28, CIFAR-10 Batch 5:  Loss:     0.4911 Validation Accuracy: 0.605000\n",
      "Epoch 29, CIFAR-10 Batch 1:  Loss:     0.7002 Validation Accuracy: 0.601200\n",
      "Epoch 29, CIFAR-10 Batch 2:  Loss:     0.4999 Validation Accuracy: 0.600400\n",
      "Epoch 29, CIFAR-10 Batch 3:  Loss:     0.4660 Validation Accuracy: 0.602800\n",
      "Epoch 29, CIFAR-10 Batch 4:  Loss:     0.5216 Validation Accuracy: 0.604800\n",
      "Epoch 29, CIFAR-10 Batch 5:  Loss:     0.4806 Validation Accuracy: 0.605000\n",
      "Epoch 30, CIFAR-10 Batch 1:  Loss:     0.6734 Validation Accuracy: 0.606400\n",
      "Epoch 30, CIFAR-10 Batch 2:  Loss:     0.4956 Validation Accuracy: 0.599400\n",
      "Epoch 30, CIFAR-10 Batch 3:  Loss:     0.4350 Validation Accuracy: 0.605400\n",
      "Epoch 30, CIFAR-10 Batch 4:  Loss:     0.4976 Validation Accuracy: 0.607200\n",
      "Epoch 30, CIFAR-10 Batch 5:  Loss:     0.4725 Validation Accuracy: 0.607800\n",
      "Epoch 31, CIFAR-10 Batch 1:  Loss:     0.6657 Validation Accuracy: 0.600400\n",
      "Epoch 31, CIFAR-10 Batch 2:  Loss:     0.4889 Validation Accuracy: 0.598400\n",
      "Epoch 31, CIFAR-10 Batch 3:  Loss:     0.4091 Validation Accuracy: 0.601000\n",
      "Epoch 31, CIFAR-10 Batch 4:  Loss:     0.4804 Validation Accuracy: 0.609200\n",
      "Epoch 31, CIFAR-10 Batch 5:  Loss:     0.4499 Validation Accuracy: 0.612000\n",
      "Epoch 32, CIFAR-10 Batch 1:  Loss:     0.6455 Validation Accuracy: 0.607000\n",
      "Epoch 32, CIFAR-10 Batch 2:  Loss:     0.4557 Validation Accuracy: 0.602800\n",
      "Epoch 32, CIFAR-10 Batch 3:  Loss:     0.4218 Validation Accuracy: 0.604600\n",
      "Epoch 32, CIFAR-10 Batch 4:  Loss:     0.4693 Validation Accuracy: 0.610800\n",
      "Epoch 32, CIFAR-10 Batch 5:  Loss:     0.4373 Validation Accuracy: 0.611400\n",
      "Epoch 33, CIFAR-10 Batch 1:  Loss:     0.6234 Validation Accuracy: 0.605000\n",
      "Epoch 33, CIFAR-10 Batch 2:  Loss:     0.4284 Validation Accuracy: 0.603200\n",
      "Epoch 33, CIFAR-10 Batch 3:  Loss:     0.4076 Validation Accuracy: 0.607600\n",
      "Epoch 33, CIFAR-10 Batch 4:  Loss:     0.4517 Validation Accuracy: 0.613400\n",
      "Epoch 33, CIFAR-10 Batch 5:  Loss:     0.4331 Validation Accuracy: 0.612400\n",
      "Epoch 34, CIFAR-10 Batch 1:  Loss:     0.6218 Validation Accuracy: 0.602000\n",
      "Epoch 34, CIFAR-10 Batch 2:  Loss:     0.4205 Validation Accuracy: 0.604400\n",
      "Epoch 34, CIFAR-10 Batch 3:  Loss:     0.3978 Validation Accuracy: 0.610800\n",
      "Epoch 34, CIFAR-10 Batch 4:  Loss:     0.4176 Validation Accuracy: 0.615200\n",
      "Epoch 34, CIFAR-10 Batch 5:  Loss:     0.4154 Validation Accuracy: 0.608600\n",
      "Epoch 35, CIFAR-10 Batch 1:  Loss:     0.5901 Validation Accuracy: 0.609200\n",
      "Epoch 35, CIFAR-10 Batch 2:  Loss:     0.4116 Validation Accuracy: 0.609200\n",
      "Epoch 35, CIFAR-10 Batch 3:  Loss:     0.3673 Validation Accuracy: 0.610400\n",
      "Epoch 35, CIFAR-10 Batch 4:  Loss:     0.4154 Validation Accuracy: 0.616800\n",
      "Epoch 35, CIFAR-10 Batch 5:  Loss:     0.3981 Validation Accuracy: 0.611600\n",
      "Epoch 36, CIFAR-10 Batch 1:  Loss:     0.5766 Validation Accuracy: 0.607400\n",
      "Epoch 36, CIFAR-10 Batch 2:  Loss:     0.3971 Validation Accuracy: 0.605800\n",
      "Epoch 36, CIFAR-10 Batch 3:  Loss:     0.3710 Validation Accuracy: 0.612600\n",
      "Epoch 36, CIFAR-10 Batch 4:  Loss:     0.3972 Validation Accuracy: 0.614400\n",
      "Epoch 36, CIFAR-10 Batch 5:  Loss:     0.3827 Validation Accuracy: 0.614800\n",
      "Epoch 37, CIFAR-10 Batch 1:  Loss:     0.5628 Validation Accuracy: 0.609200\n",
      "Epoch 37, CIFAR-10 Batch 2:  Loss:     0.3770 Validation Accuracy: 0.610400\n",
      "Epoch 37, CIFAR-10 Batch 3:  Loss:     0.3530 Validation Accuracy: 0.614400\n",
      "Epoch 37, CIFAR-10 Batch 4:  Loss:     0.3879 Validation Accuracy: 0.619600\n",
      "Epoch 37, CIFAR-10 Batch 5:  Loss:     0.3647 Validation Accuracy: 0.614600\n",
      "Epoch 38, CIFAR-10 Batch 1:  Loss:     0.5481 Validation Accuracy: 0.613400\n",
      "Epoch 38, CIFAR-10 Batch 2:  Loss:     0.3766 Validation Accuracy: 0.612800\n",
      "Epoch 38, CIFAR-10 Batch 3:  Loss:     0.3606 Validation Accuracy: 0.611000\n",
      "Epoch 38, CIFAR-10 Batch 4:  Loss:     0.3794 Validation Accuracy: 0.614400\n",
      "Epoch 38, CIFAR-10 Batch 5:  Loss:     0.3603 Validation Accuracy: 0.616800\n",
      "Epoch 39, CIFAR-10 Batch 1:  Loss:     0.5221 Validation Accuracy: 0.613600\n",
      "Epoch 39, CIFAR-10 Batch 2:  Loss:     0.3575 Validation Accuracy: 0.612200\n",
      "Epoch 39, CIFAR-10 Batch 3:  Loss:     0.3361 Validation Accuracy: 0.615400\n",
      "Epoch 39, CIFAR-10 Batch 4:  Loss:     0.3874 Validation Accuracy: 0.618000\n",
      "Epoch 39, CIFAR-10 Batch 5:  Loss:     0.3424 Validation Accuracy: 0.617200\n",
      "Epoch 40, CIFAR-10 Batch 1:  Loss:     0.5190 Validation Accuracy: 0.610600\n",
      "Epoch 40, CIFAR-10 Batch 2:  Loss:     0.3459 Validation Accuracy: 0.612800\n",
      "Epoch 40, CIFAR-10 Batch 3:  Loss:     0.3277 Validation Accuracy: 0.617800\n",
      "Epoch 40, CIFAR-10 Batch 4:  Loss:     0.3451 Validation Accuracy: 0.619000\n",
      "Epoch 40, CIFAR-10 Batch 5:  Loss:     0.3501 Validation Accuracy: 0.615800\n",
      "Epoch 41, CIFAR-10 Batch 1:  Loss:     0.5098 Validation Accuracy: 0.610400\n",
      "Epoch 41, CIFAR-10 Batch 2:  Loss:     0.3289 Validation Accuracy: 0.615000\n",
      "Epoch 41, CIFAR-10 Batch 3:  Loss:     0.3123 Validation Accuracy: 0.618000\n",
      "Epoch 41, CIFAR-10 Batch 4:  Loss:     0.3486 Validation Accuracy: 0.621400\n",
      "Epoch 41, CIFAR-10 Batch 5:  Loss:     0.3210 Validation Accuracy: 0.616800\n",
      "Epoch 42, CIFAR-10 Batch 1:  Loss:     0.4801 Validation Accuracy: 0.610400\n",
      "Epoch 42, CIFAR-10 Batch 2:  Loss:     0.3304 Validation Accuracy: 0.614000\n",
      "Epoch 42, CIFAR-10 Batch 3:  Loss:     0.3161 Validation Accuracy: 0.620400\n",
      "Epoch 42, CIFAR-10 Batch 4:  Loss:     0.3379 Validation Accuracy: 0.617600\n",
      "Epoch 42, CIFAR-10 Batch 5:  Loss:     0.3209 Validation Accuracy: 0.616800\n",
      "Epoch 43, CIFAR-10 Batch 1:  Loss:     0.4674 Validation Accuracy: 0.613400\n",
      "Epoch 43, CIFAR-10 Batch 2:  Loss:     0.3190 Validation Accuracy: 0.617200\n",
      "Epoch 43, CIFAR-10 Batch 3:  Loss:     0.3000 Validation Accuracy: 0.619800\n",
      "Epoch 43, CIFAR-10 Batch 4:  Loss:     0.3275 Validation Accuracy: 0.620600\n",
      "Epoch 43, CIFAR-10 Batch 5:  Loss:     0.3111 Validation Accuracy: 0.619400\n",
      "Epoch 44, CIFAR-10 Batch 1:  Loss:     0.4521 Validation Accuracy: 0.617400\n"
     ]
    },
    {
     "name": "stdout",
     "output_type": "stream",
     "text": [
      "Epoch 44, CIFAR-10 Batch 2:  Loss:     0.3096 Validation Accuracy: 0.612400\n",
      "Epoch 44, CIFAR-10 Batch 3:  Loss:     0.2991 Validation Accuracy: 0.618000\n",
      "Epoch 44, CIFAR-10 Batch 4:  Loss:     0.3110 Validation Accuracy: 0.614600\n",
      "Epoch 44, CIFAR-10 Batch 5:  Loss:     0.3013 Validation Accuracy: 0.619600\n",
      "Epoch 45, CIFAR-10 Batch 1:  Loss:     0.4481 Validation Accuracy: 0.612600\n",
      "Epoch 45, CIFAR-10 Batch 2:  Loss:     0.3136 Validation Accuracy: 0.614800\n",
      "Epoch 45, CIFAR-10 Batch 3:  Loss:     0.2810 Validation Accuracy: 0.623000\n",
      "Epoch 45, CIFAR-10 Batch 4:  Loss:     0.2931 Validation Accuracy: 0.623000\n",
      "Epoch 45, CIFAR-10 Batch 5:  Loss:     0.2848 Validation Accuracy: 0.620200\n",
      "Epoch 46, CIFAR-10 Batch 1:  Loss:     0.4517 Validation Accuracy: 0.610800\n",
      "Epoch 46, CIFAR-10 Batch 2:  Loss:     0.3127 Validation Accuracy: 0.612800\n",
      "Epoch 46, CIFAR-10 Batch 3:  Loss:     0.2743 Validation Accuracy: 0.622400\n",
      "Epoch 46, CIFAR-10 Batch 4:  Loss:     0.2950 Validation Accuracy: 0.622000\n",
      "Epoch 46, CIFAR-10 Batch 5:  Loss:     0.2860 Validation Accuracy: 0.619800\n",
      "Epoch 47, CIFAR-10 Batch 1:  Loss:     0.4360 Validation Accuracy: 0.616400\n",
      "Epoch 47, CIFAR-10 Batch 2:  Loss:     0.2848 Validation Accuracy: 0.619000\n",
      "Epoch 47, CIFAR-10 Batch 3:  Loss:     0.2668 Validation Accuracy: 0.623000\n",
      "Epoch 47, CIFAR-10 Batch 4:  Loss:     0.2851 Validation Accuracy: 0.620400\n",
      "Epoch 47, CIFAR-10 Batch 5:  Loss:     0.2656 Validation Accuracy: 0.619000\n",
      "Epoch 48, CIFAR-10 Batch 1:  Loss:     0.4426 Validation Accuracy: 0.617800\n",
      "Epoch 48, CIFAR-10 Batch 2:  Loss:     0.2826 Validation Accuracy: 0.618600\n",
      "Epoch 48, CIFAR-10 Batch 3:  Loss:     0.2628 Validation Accuracy: 0.625800\n",
      "Epoch 48, CIFAR-10 Batch 4:  Loss:     0.2872 Validation Accuracy: 0.622800\n",
      "Epoch 48, CIFAR-10 Batch 5:  Loss:     0.2700 Validation Accuracy: 0.619600\n",
      "Epoch 49, CIFAR-10 Batch 1:  Loss:     0.4075 Validation Accuracy: 0.615800\n",
      "Epoch 49, CIFAR-10 Batch 2:  Loss:     0.2608 Validation Accuracy: 0.619400\n",
      "Epoch 49, CIFAR-10 Batch 3:  Loss:     0.2460 Validation Accuracy: 0.625600\n",
      "Epoch 49, CIFAR-10 Batch 4:  Loss:     0.2708 Validation Accuracy: 0.625600\n",
      "Epoch 49, CIFAR-10 Batch 5:  Loss:     0.2659 Validation Accuracy: 0.614600\n",
      "Epoch 50, CIFAR-10 Batch 1:  Loss:     0.4040 Validation Accuracy: 0.615400\n",
      "Epoch 50, CIFAR-10 Batch 2:  Loss:     0.2554 Validation Accuracy: 0.617200\n",
      "Epoch 50, CIFAR-10 Batch 3:  Loss:     0.2513 Validation Accuracy: 0.627600\n",
      "Epoch 50, CIFAR-10 Batch 4:  Loss:     0.2607 Validation Accuracy: 0.622200\n",
      "Epoch 50, CIFAR-10 Batch 5:  Loss:     0.2589 Validation Accuracy: 0.618400\n"
     ]
    }
   ],
   "source": [
    "\"\"\"\n",
    "DON'T MODIFY ANYTHING IN THIS CELL\n",
    "\"\"\"\n",
    "save_model_path = './image_classification'\n",
    "\n",
    "print('Training...')\n",
    "with tf.Session() as sess:\n",
    "    # Initializing the variables\n",
    "    sess.run(tf.global_variables_initializer())\n",
    "    \n",
    "    # Training cycle\n",
    "    for epoch in range(epochs):\n",
    "        # Loop over all batches\n",
    "        n_batches = 5\n",
    "        for batch_i in range(1, n_batches + 1):\n",
    "            for batch_features, batch_labels in helper.load_preprocess_training_batch(batch_i, batch_size):\n",
    "                train_neural_network(sess, optimizer, keep_probability, batch_features, batch_labels)\n",
    "            print('Epoch {:>2}, CIFAR-10 Batch {}:  '.format(epoch + 1, batch_i), end='')\n",
    "            print_stats(sess, batch_features, batch_labels, cost, accuracy)\n",
    "            \n",
    "    # Save Model\n",
    "    saver = tf.train.Saver()\n",
    "    save_path = saver.save(sess, save_model_path)"
   ]
  },
  {
   "cell_type": "markdown",
   "metadata": {},
   "source": [
    "# Checkpoint\n",
    "The model has been saved to disk.\n",
    "## Test Model\n",
    "Test your model against the test dataset.  This will be your final accuracy. You should have an accuracy greater than 50%. If you don't, keep tweaking the model architecture and parameters."
   ]
  },
  {
   "cell_type": "code",
   "execution_count": 66,
   "metadata": {},
   "outputs": [
    {
     "name": "stdout",
     "output_type": "stream",
     "text": [
      "INFO:tensorflow:Restoring parameters from ./image_classification\n",
      "Testing Accuracy: 0.63037109375\n",
      "\n"
     ]
    },
    {
     "data": {
      "image/png": "[encoded data removed]",
      "text/plain": [
       "<matplotlib.figure.Figure at 0x126a0d0f0>"
      ]
     },
     "metadata": {
      "image/png": {
       "height": 319,
       "width": 355
      }
     },
     "output_type": "display_data"
    }
   ],
   "source": [
    "\"\"\"\n",
    "DON'T MODIFY ANYTHING IN THIS CELL\n",
    "\"\"\"\n",
    "%matplotlib inline\n",
    "%config InlineBackend.figure_format = 'retina'\n",
    "\n",
    "import tensorflow as tf\n",
    "import pickle\n",
    "import helper\n",
    "import random\n",
    "\n",
    "# Set batch size if not already set\n",
    "try:\n",
    "    if batch_size:\n",
    "        pass\n",
    "except NameError:\n",
    "    batch_size = 64\n",
    "\n",
    "save_model_path = './image_classification'\n",
    "n_samples = 4\n",
    "top_n_predictions = 3\n",
    "\n",
    "def test_model():\n",
    "    \"\"\"\n",
    "    Test the saved model against the test dataset\n",
    "    \"\"\"\n",
    "\n",
    "    test_features, test_labels = pickle.load(open('preprocess_test.p', mode='rb'))\n",
    "    loaded_graph = tf.Graph()\n",
    "\n",
    "    with tf.Session(graph=loaded_graph) as sess:\n",
    "        # Load model\n",
    "        loader = tf.train.import_meta_graph(save_model_path + '.meta')\n",
    "        loader.restore(sess, save_model_path)\n",
    "\n",
    "        # Get Tensors from loaded model\n",
    "        loaded_x = loaded_graph.get_tensor_by_name('x:0')\n",
    "        loaded_y = loaded_graph.get_tensor_by_name('y:0')\n",
    "        loaded_keep_prob = loaded_graph.get_tensor_by_name('keep_prob:0')\n",
    "        loaded_logits = loaded_graph.get_tensor_by_name('logits:0')\n",
    "        loaded_acc = loaded_graph.get_tensor_by_name('accuracy:0')\n",
    "        \n",
    "        # Get accuracy in batches for memory limitations\n",
    "        test_batch_acc_total = 0\n",
    "        test_batch_count = 0\n",
    "        \n",
    "        for test_feature_batch, test_label_batch in helper.batch_features_labels(test_features, test_labels, batch_size):\n",
    "            test_batch_acc_total += sess.run(\n",
    "                loaded_acc,\n",
    "                feed_dict={loaded_x: test_feature_batch, loaded_y: test_label_batch, loaded_keep_prob: 1.0})\n",
    "            test_batch_count += 1\n",
    "\n",
    "        print('Testing Accuracy: {}\\n'.format(test_batch_acc_total/test_batch_count))\n",
    "\n",
    "        # Print Random Samples\n",
    "        random_test_features, random_test_labels = tuple(zip(*random.sample(list(zip(test_features, test_labels)), n_samples)))\n",
    "        random_test_predictions = sess.run(\n",
    "            tf.nn.top_k(tf.nn.softmax(loaded_logits), top_n_predictions),\n",
    "            feed_dict={loaded_x: random_test_features, loaded_y: random_test_labels, loaded_keep_prob: 1.0})\n",
    "        helper.display_image_predictions(random_test_features, random_test_labels, random_test_predictions)\n",
    "\n",
    "\n",
    "test_model()"
   ]
  },
  {
   "cell_type": "markdown",
   "metadata": {},
   "source": [
    "## Why 50-80% Accuracy?\n",
    "You might be wondering why you can't get an accuracy any higher. First things first, 50% isn't bad for a simple CNN.  Pure guessing would get you 10% accuracy. However, you might notice people are getting scores [well above 80%](http://rodrigob.github.io/are_we_there_yet/build/classification_datasets_results.html#43494641522d3130).  That's because we haven't taught you all there is to know about neural networks. We still need to cover a few more techniques.\n",
    "## Submitting This Project\n",
    "When submitting this project, make sure to run all the cells before saving the notebook.  Save the notebook file as \"dlnd_image_classification.ipynb\" and save it as a HTML file under \"File\" -> \"Download as\".  Include the \"helper.py\" and \"problem_unittests.py\" files in your submission."
   ]
  }
 ],
 "metadata": {
  "kernelspec": {
   "display_name": "Python [default]",
   "language": "python",
   "name": "python3"
  },
  "language_info": {
   "codemirror_mode": {
    "name": "ipython",
    "version": 3
   },
   "file_extension": ".py",
   "mimetype": "text/x-python",
   "name": "python",
   "nbconvert_exporter": "python",
   "pygments_lexer": "ipython3",
   "version": "3.6.1"
  }
 },
 "nbformat": 4,
 "nbformat_minor": 1
}
